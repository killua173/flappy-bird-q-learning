{
 "cells": [
  {
   "cell_type": "markdown",
   "id": "7367498c-c329-4055-a380-d7ef1024c38d",
   "metadata": {},
   "source": [
    "# Importing necessary libraries"
   ]
  },
  {
   "cell_type": "code",
   "execution_count": 1,
   "id": "188da1ed-2101-40d2-a579-7e4fe33993e2",
   "metadata": {},
   "outputs": [],
   "source": [
    "import numpy as np\n",
    "import time\n",
    "import flappy_bird_gym"
   ]
  },
  {
   "cell_type": "markdown",
   "id": "0ff54eed-b771-4811-9046-13e9af979073",
   "metadata": {},
   "source": [
    "# Q-learning parameters"
   ]
  },
  {
   "cell_type": "code",
   "execution_count": 2,
   "id": "6aa2b31c-ab8d-48ce-9678-4322757a5f41",
   "metadata": {},
   "outputs": [],
   "source": [
    "learning_rate = 0.001\n",
    "discount_factor = 0.95\n",
    "exploration_prob = 0\n",
    "num_episodes = 10000"
   ]
  },
  {
   "cell_type": "markdown",
   "id": "e64c746a-105f-43e7-88fb-591bc56f52f3",
   "metadata": {},
   "source": [
    "# Create Flappy Bird environment"
   ]
  },
  {
   "cell_type": "code",
   "execution_count": 3,
   "id": "1c221c31-edaa-4ecc-b9db-b42c5833515e",
   "metadata": {},
   "outputs": [],
   "source": [
    "env = flappy_bird_gym.make(\"FlappyBird-v0\")"
   ]
  },
  {
   "cell_type": "markdown",
   "id": "768e318a-9fe1-4768-8de3-b9436424f4fb",
   "metadata": {},
   "source": [
    "# Discretize the state space"
   ]
  },
  {
   "cell_type": "code",
   "execution_count": 4,
   "id": "cd5f38aa-c2d0-4987-89b4-98480db29073",
   "metadata": {},
   "outputs": [],
   "source": [
    "num_discrete_states = 15\n",
    "state_bins = [np.linspace(0.5, 1.5, num_discrete_states), np.linspace(-1, 0.5, num_discrete_states)]"
   ]
  },
  {
   "cell_type": "markdown",
   "id": "fef4013d-cb72-4c6d-946a-b21bd5be085a",
   "metadata": {},
   "source": [
    "# Initialize Q-table"
   ]
  },
  {
   "cell_type": "code",
   "execution_count": 5,
   "id": "19585c6d-3ae3-4d87-9df8-be72bd18ca34",
   "metadata": {},
   "outputs": [],
   "source": [
    "def discretize_state(state):\n",
    "    return tuple(np.digitize(state[i], bins) - 1 for i, bins in enumerate(state_bins))\n",
    "\n",
    "action_space_size = env.action_space.n\n",
    "q_table_shape = tuple([num_discrete_states] * len(state_bins))\n",
    "q_table = np.zeros(q_table_shape + (action_space_size,))\n"
   ]
  },
  {
   "cell_type": "markdown",
   "id": "6e7d232a-4023-40eb-942d-2dcff9b2d1e3",
   "metadata": {},
   "source": [
    "# Q-learning algorithm"
   ]
  },
  {
   "cell_type": "code",
   "execution_count": null,
   "id": "37841f27-1722-41b9-9959-36d3922318d1",
   "metadata": {},
   "outputs": [
    {
     "name": "stdout",
     "output_type": "stream",
     "text": [
      "Episode 1/10000, Score: {'score': 0}\n",
      "Episode 2/10000, Score: {'score': 0}\n",
      "Episode 3/10000, Score: {'score': 0}\n",
      "Episode 4/10000, Score: {'score': 0}\n",
      "Episode 5/10000, Score: {'score': 0}\n",
      "Episode 6/10000, Score: {'score': 0}\n",
      "Episode 7/10000, Score: {'score': 0}\n",
      "Episode 8/10000, Score: {'score': 0}\n",
      "Episode 9/10000, Score: {'score': 0}\n",
      "Episode 10/10000, Score: {'score': 0}\n",
      "Episode 11/10000, Score: {'score': 0}\n",
      "Episode 12/10000, Score: {'score': 0}\n",
      "Episode 13/10000, Score: {'score': 0}\n",
      "Episode 14/10000, Score: {'score': 0}\n",
      "Episode 15/10000, Score: {'score': 0}\n",
      "Episode 16/10000, Score: {'score': 0}\n",
      "Episode 17/10000, Score: {'score': 0}\n",
      "Episode 18/10000, Score: {'score': 0}\n",
      "Episode 19/10000, Score: {'score': 0}\n",
      "Episode 20/10000, Score: {'score': 0}\n",
      "Episode 21/10000, Score: {'score': 0}\n",
      "Episode 22/10000, Score: {'score': 0}\n",
      "Episode 23/10000, Score: {'score': 0}\n",
      "Episode 24/10000, Score: {'score': 0}\n",
      "Episode 25/10000, Score: {'score': 0}\n",
      "Episode 26/10000, Score: {'score': 3}\n",
      "Episode 27/10000, Score: {'score': 0}\n",
      "Episode 28/10000, Score: {'score': 0}\n",
      "Episode 29/10000, Score: {'score': 0}\n",
      "Episode 30/10000, Score: {'score': 0}\n",
      "Episode 31/10000, Score: {'score': 0}\n",
      "Episode 32/10000, Score: {'score': 0}\n",
      "Episode 33/10000, Score: {'score': 8}\n",
      "Episode 34/10000, Score: {'score': 0}\n",
      "Episode 35/10000, Score: {'score': 0}\n",
      "Episode 36/10000, Score: {'score': 0}\n",
      "Episode 37/10000, Score: {'score': 0}\n",
      "Episode 38/10000, Score: {'score': 3}\n",
      "Episode 39/10000, Score: {'score': 9}\n",
      "Episode 40/10000, Score: {'score': 0}\n",
      "Episode 41/10000, Score: {'score': 0}\n",
      "Episode 42/10000, Score: {'score': 0}\n",
      "Episode 43/10000, Score: {'score': 1}\n",
      "Episode 44/10000, Score: {'score': 1}\n",
      "Episode 45/10000, Score: {'score': 0}\n",
      "Episode 46/10000, Score: {'score': 0}\n",
      "Episode 47/10000, Score: {'score': 0}\n",
      "Episode 48/10000, Score: {'score': 0}\n",
      "Episode 49/10000, Score: {'score': 0}\n",
      "Episode 50/10000, Score: {'score': 0}\n",
      "Episode 51/10000, Score: {'score': 0}\n",
      "Episode 52/10000, Score: {'score': 0}\n",
      "Episode 53/10000, Score: {'score': 0}\n",
      "Episode 54/10000, Score: {'score': 0}\n",
      "Episode 55/10000, Score: {'score': 8}\n",
      "Episode 56/10000, Score: {'score': 7}\n",
      "Episode 57/10000, Score: {'score': 1}\n",
      "Episode 58/10000, Score: {'score': 7}\n"
     ]
    }
   ],
   "source": [
    "for episode in range(num_episodes):\n",
    "    state = env.reset()\n",
    "    state = discretize_state(state)\n",
    "    \n",
    "    done = False\n",
    "    total_reward = 0\n",
    "    \n",
    "    while not done:\n",
    "        \n",
    "\n",
    "        \n",
    "        # Exploration-exploitation trade-off\n",
    "        if np.random.rand() < exploration_prob:\n",
    "            action = env.action_space.sample()  # Explore\n",
    "        else:\n",
    "            action = np.argmax(q_table[state])  # Exploit\n",
    "\n",
    "        # Take the selected action\n",
    "        next_state, reward, done, Score = env.step(action)\n",
    "        if reward==1 :\n",
    "            reward=15\n",
    "\n",
    "        if done :\n",
    "            reward += -1000\n",
    "            \n",
    "        next_state = discretize_state(next_state)\n",
    "\n",
    "            \n",
    "       # if next_state[0] == 0:\n",
    "        #    reward += 10\n",
    "\n",
    "        if episode >150:\n",
    "        \n",
    "            env.render()\n",
    "            time.sleep(1 / 30)\n",
    "            print(next_state)\n",
    "            \n",
    "             \n",
    "\n",
    "\n",
    "        \n",
    "        # Update Q-value using the Q-learning update rule\n",
    "        q_table[state + (action,)] += learning_rate * (reward + discount_factor * np.max(q_table[next_state]) - q_table[state + (action,)])\n",
    "        \n",
    "\n",
    "        \n",
    "\n",
    "\n",
    "        # Update the current state\n",
    "        state = next_state\n",
    "    \n",
    "    # Print total reward for the episode\n",
    "    print(f\"Episode {episode + 1}/{num_episodes}, Score: {Score}\")\n",
    "\n",
    "# Close the environment\n",
    "env.close()"
   ]
  },
  {
   "cell_type": "code",
   "execution_count": null,
   "id": "9883268b-e368-4ba2-88f6-6446a746a7c9",
   "metadata": {},
   "outputs": [],
   "source": []
  },
  {
   "cell_type": "code",
   "execution_count": null,
   "id": "999f0de4-2e7c-45dc-9fc0-586662bcfa23",
   "metadata": {},
   "outputs": [],
   "source": []
  }
 ],
 "metadata": {
  "kernelspec": {
   "display_name": "Python 3 (ipykernel)",
   "language": "python",
   "name": "python3"
  },
  "language_info": {
   "codemirror_mode": {
    "name": "ipython",
    "version": 3
   },
   "file_extension": ".py",
   "mimetype": "text/x-python",
   "name": "python",
   "nbconvert_exporter": "python",
   "pygments_lexer": "ipython3",
   "version": "3.8.0"
  }
 },
 "nbformat": 4,
 "nbformat_minor": 5
}
